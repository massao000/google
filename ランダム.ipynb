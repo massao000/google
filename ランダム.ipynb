{
  "nbformat": 4,
  "nbformat_minor": 0,
  "metadata": {
    "colab": {
      "name": "ランダム.ipynb",
      "provenance": [],
      "authorship_tag": "ABX9TyNxXkmvx4/z9K9k+0U+K70M",
      "include_colab_link": true
    },
    "kernelspec": {
      "name": "python3",
      "display_name": "Python 3"
    }
  },
  "cells": [
    {
      "cell_type": "markdown",
      "metadata": {
        "id": "view-in-github",
        "colab_type": "text"
      },
      "source": [
        "<a href=\"https://colab.research.google.com/github/massao000/google/blob/main/%E3%83%A9%E3%83%B3%E3%83%80%E3%83%A0.ipynb\" target=\"_parent\"><img src=\"https://colab.research.google.com/assets/colab-badge.svg\" alt=\"Open In Colab\"/></a>"
      ]
    },
    {
      "cell_type": "code",
      "metadata": {
        "id": "9yOaLCug6Lij"
      },
      "source": [
        "import random"
      ],
      "execution_count": 4,
      "outputs": []
    },
    {
      "cell_type": "code",
      "metadata": {
        "colab": {
          "base_uri": "https://localhost:8080/"
        },
        "id": "qRfcnDdf6XPS",
        "outputId": "8817e3c5-069e-49bf-9b5f-7bcd2110eb97"
      },
      "source": [
        "x = [i for i in range(1, 10)]\n",
        "# x = range(51)\n",
        "print(x)"
      ],
      "execution_count": null,
      "outputs": [
        {
          "output_type": "stream",
          "text": [
            "[1, 2, 3, 4, 5, 6, 7, 8, 9]\n"
          ],
          "name": "stdout"
        }
      ]
    },
    {
      "cell_type": "code",
      "metadata": {
        "colab": {
          "base_uri": "https://localhost:8080/"
        },
        "id": "DlO0TEof60Tr",
        "outputId": "c1a857cb-1df6-4a65-bec2-7aeb1c928a15"
      },
      "source": [
        "rondom_list1 = []\n",
        "rondom_list2 = []\n",
        "answer_list = [\"正解\", \"不正解\"]\n",
        "nn = random.randint(3, 6)\n",
        "\n",
        "for k in range(nn): # ランダムで回数を決める\n",
        "  x = random.randint(1,10)\n",
        "  y = random.randint(1,10)\n",
        "  rondom_list1.append(x)\n",
        "  rondom_list2.append(y)\n",
        "\n",
        "# rondom_list2を重複しないようにするか考える\n",
        "print(\"標準ライブラリ使用\")\n",
        "print(rondom_list1)\n",
        "print(rondom_list2)"
      ],
      "execution_count": 9,
      "outputs": [
        {
          "output_type": "stream",
          "text": [
            "標準ライブラリ使用\n",
            "[7, 4, 7, 4]\n",
            "[1, 2, 8, 9]\n"
          ],
          "name": "stdout"
        }
      ]
    },
    {
      "cell_type": "code",
      "metadata": {
        "id": "YN1Y0s4J-tkG"
      },
      "source": [
        "# rondom_list1, rondom_list2.zipn"
      ],
      "execution_count": 8,
      "outputs": []
    },
    {
      "cell_type": "code",
      "metadata": {
        "id": "smrdvmew8aTw"
      },
      "source": [
        "issue_number = 1\n",
        "for ll, (i, n) in enumerate(zip(rondom_list1, rondom_list2), 1):\n",
        "  print(f'デバック（問題）{i} {n}', end=\" \")\n",
        "  ran = random.randrange(10)\n",
        "  if ran % 2 == 0 and ran % 3 == 0:\n",
        "    division = i / n\n",
        "    division = round(division, 3)\n",
        "    print(f'デバック（回答）{division}')\n",
        "    print(type(division))\n",
        "    # tp = isinstance(division, float)\n",
        "    if isinstance(division, float) == True:\n",
        "      answer = float(input(f'問{ll}, {i} ÷ {n} = '))\n",
        "      print(f'デバック（float回答）{division}')\n",
        "      print(type(answer))\n",
        "    # else:\n",
        "    #   answer = int(input(f'問{ll}, {i} ÷ {n} = '))\n",
        "    #   print(type(answer))\n",
        "    #   print(f'デバック（int回答）{division}')\n",
        "    # issue_number += 1\n",
        "    if answer == division:\n",
        "      print(answer_list[0])\n",
        "    else:\n",
        "      print(answer_list[1])\n",
        "\n",
        "  elif ran % 3 == 0: # ここのところをランダムで1~4で\n",
        "    multiplication = i * n\n",
        "    print(f'デバック（回答）{multiplication}')\n",
        "    answer = int(input(f'問{ll}, {i} x {n} = '))\n",
        "    # issue_number += 1\n",
        "    if answer == multiplication:\n",
        "      print(answer_list[0])\n",
        "    else:\n",
        "      print(answer_list[1])\n",
        "\n",
        "  elif ran % 2 == 0:\n",
        "    subtraction = i - n\n",
        "    print(f'デバック（回答）{subtraction}')\n",
        "    answer = int(input(f'問{ll}, {i} - {n} = '))\n",
        "    # issue_number += 1\n",
        "    if answer == subtraction:\n",
        "      print(answer_list[0])\n",
        "    else:\n",
        "      print(answer_list[1])\n",
        "\n",
        "  else:\n",
        "    addition = i + n\n",
        "    print(f'デバック（回答）{addition}')\n",
        "    answer = int(input(f'問{ll}, {i} ＋ {n} = '))\n",
        "    # issue_number += 1\n",
        "    if answer == addition:\n",
        "      print(answer_list[0])\n",
        "    else:\n",
        "      print(answer_list[1])"
      ],
      "execution_count": null,
      "outputs": []
    },
    {
      "cell_type": "code",
      "metadata": {
        "colab": {
          "base_uri": "https://localhost:8080/"
        },
        "id": "_LC8bop5AifZ",
        "outputId": "434f582d-6c4a-4c0f-998b-8ffc554ffe9d"
      },
      "source": [
        "\n",
        "random.randrange(10)"
      ],
      "execution_count": null,
      "outputs": [
        {
          "output_type": "execute_result",
          "data": {
            "text/plain": [
              "9"
            ]
          },
          "metadata": {
            "tags": []
          },
          "execution_count": 80
        }
      ]
    },
    {
      "cell_type": "code",
      "metadata": {
        "id": "37mdyGjbFMfE"
      },
      "source": [
        "  for ll, (i, n) in enumerate(zip(rondom_list1, rondom_list2), 1):\n",
        "    print(f'デバック（問題）{i} {n}', end=\" \")\n",
        "    ran = random.randrange(10)\n",
        "    if ran % 2 == 0:\n",
        "      division = i / n\n",
        "      division = round(division, 3)\n",
        "      print(f'デバック（回答）{division}')\n",
        "      print(type(division))\n",
        "      # tp = isinstance(division, float)\n",
        "      if isinstance(division, float) == True:\n",
        "        answer = float(input(f'問{ll}, {i} ÷ {n} = '))\n",
        "        print(f'デバック（float回答）{division}')\n",
        "        print(type(answer))\n",
        "      # else:\n",
        "      #   answer = int(input(f'問{ll}, {i} ÷ {n} = '))\n",
        "      #   print(type(answer))\n",
        "      #   print(f'デバック（int回答）{division}')\n",
        "      # issue_number += 1\n",
        "      if answer == division:\n",
        "        print(answer_list[0])\n",
        "      else:\n",
        "        print(answer_list[1])\n",
        "    else:\n",
        "      pass"
      ],
      "execution_count": null,
      "outputs": []
    },
    {
      "cell_type": "code",
      "metadata": {
        "id": "cG4jksxFdAjv",
        "colab": {
          "base_uri": "https://localhost:8080/"
        },
        "outputId": "adfb0e43-b172-4fa8-d5b0-c2139d130be3"
      },
      "source": [
        "issue_number = 1\n",
        "for ll, (i, n) in enumerate(zip(rondom_list1, rondom_list2), 1):\n",
        "  print(f'デバック（問題）{i} {n}', end=\" \")\n",
        "  ran = random.randrange(4)\n",
        "  if ran == 1:\n",
        "    division = i / n\n",
        "    division = round(division, 3)\n",
        "    print(f'デバック（回答）{division}')\n",
        "    print(type(division))\n",
        "    if isinstance(division, float) == True:\n",
        "      answer = float(input(f'{ll}問目, {i} ÷ {n} = '))\n",
        "      print(f'デバック（float回答）{division}')\n",
        "      print(type(answer))\n",
        "    if answer == division:\n",
        "      print(answer_list[0])\n",
        "    else:\n",
        "      print(answer_list[1])\n",
        "\n",
        "  elif ran == 2: # ここのところをランダムで1~4で\n",
        "    multiplication = i * n\n",
        "    print(f'デバック（回答）{multiplication}')\n",
        "    answer = int(input(f'{ll}問目, {i} x {n} = '))\n",
        "    if answer == multiplication:\n",
        "      print(answer_list[0])\n",
        "    else:\n",
        "      print(answer_list[1])\n",
        "\n",
        "  elif ran == 3:\n",
        "    subtraction = i - n\n",
        "    print(f'デバック（回答）{subtraction}')\n",
        "    answer = int(input(f'{ll}問目, {i} - {n} = '))\n",
        "    if answer == subtraction:\n",
        "      print(answer_list[0])\n",
        "    else:\n",
        "      print(answer_list[1])\n",
        "\n",
        "  else:\n",
        "    addition = i + n\n",
        "    print(f'デバック（回答）{addition}')\n",
        "    answer = int(input(f'{ll}問目, {i} ＋ {n} = '))\n",
        "    if answer == addition:\n",
        "      print(answer_list[0])\n",
        "    else:\n",
        "      print(answer_list[1])"
      ],
      "execution_count": 12,
      "outputs": [
        {
          "output_type": "stream",
          "text": [
            "デバック（問題）7 1 デバック（回答）7\n",
            "1問目, 7 x 1 = ７\n",
            "正解\n",
            "デバック（問題）4 2 デバック（回答）8\n",
            "2問目, 4 x 2 = ８\n",
            "正解\n",
            "デバック（問題）7 8 デバック（回答）56\n",
            "3問目, 7 x 8 = ５６\n",
            "正解\n",
            "デバック（問題）4 9 デバック（回答）0.444\n",
            "<class 'float'>\n",
            "4問目, 4 ÷ 9 = 0.444\n",
            "デバック（float回答）0.444\n",
            "<class 'float'>\n",
            "正解\n"
          ],
          "name": "stdout"
        }
      ]
    }
  ]
}