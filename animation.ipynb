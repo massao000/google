{
  "nbformat": 4,
  "nbformat_minor": 0,
  "metadata": {
    "colab": {
      "name": "animation.ipynb のコピー",
      "provenance": [],
      "include_colab_link": true
    },
    "kernelspec": {
      "name": "python3",
      "display_name": "Python 3"
    }
  },
  "cells": [
    {
      "cell_type": "markdown",
      "metadata": {
        "id": "view-in-github",
        "colab_type": "text"
      },
      "source": [
        "<a href=\"https://colab.research.google.com/github/massao000/google/blob/main/animation.ipynb\" target=\"_parent\"><img src=\"https://colab.research.google.com/assets/colab-badge.svg\" alt=\"Open In Colab\"/></a>"
      ]
    },
    {
      "cell_type": "markdown",
      "metadata": {
        "id": "DmbinDu4KrId"
      },
      "source": [
        "アニメーションでターミナルに文字を表示する"
      ]
    },
    {
      "cell_type": "code",
      "metadata": {
        "colab": {
          "base_uri": "https://localhost:8080/"
        },
        "id": "PejjzR3ssmX5",
        "outputId": "0ecc817b-7ae5-4cb8-ab25-feb9eac81ebc"
      },
      "source": [
        "import time\n",
        "\n",
        "def animation(list_data, delay):\n",
        "    for list_string in list_data: # 関数に定義した配列の長さだけ繰り返すようにする\n",
        "        one_character = [] # １文字リスト\n",
        "        stairs_list = [] # 階段上のリストに変える\n",
        "\n",
        "        for moji in list_string: # list_stringから１文字ずつmojiに入れていく\n",
        "            one_character += moji # list_stringから文字をone_characterリストに追加していく\n",
        "            comma_character = \",\".join(one_character) # one_characterリストの文字を１文字ずつカンマ区切にしてcomma_character変数に入れる\n",
        "            string = comma_character.replace(\",\", '') # comma_character変数のカンマ区切の文字列のカンマを取り除くきstring変数に入れる\n",
        "            stairs_list.append(string) # arrayで文字列にしたものをstairs_listリストに連結していく\n",
        "\n",
        "        for stairs in stairs_list: # 階段上のリストを1個ずつ表示させる\n",
        "            print(f\"{stairs}\", end=\"\") # stairsに入れられた文字列を表示させる\n",
        "            time.sleep(delay) # time.sleep（）で表示する文字をディレイさせる\n",
        "            print(\"\\r\", end=\"\") # \\r　を使うと入力されたところに上書きができる\n",
        "        print()\n",
        "\n",
        "systems_list = [\"メニュー１\", \"メニュー２\", \"メニュー３\"]\n",
        "\n",
        "animation(systems_list, 0.5)"
      ],
      "execution_count": 2,
      "outputs": [
        {
          "output_type": "stream",
          "text": [
            "メニュー１\n",
            "メニュー２\n",
            "メニュー３\n"
          ],
          "name": "stdout"
        }
      ]
    },
    {
      "cell_type": "code",
      "metadata": {
        "id": "K2Rhc4YE5Fjc",
        "colab": {
          "base_uri": "https://localhost:8080/"
        },
        "outputId": "005314e0-9c69-4869-c32a-cd7e7116b0b9"
      },
      "source": [
        "import time\r\n",
        "\r\n",
        "def animation(list_data, delay):\r\n",
        "    for list_string in list_data:\r\n",
        "        one_character = []\r\n",
        "        stairs_list = []\r\n",
        "\r\n",
        "        for moji in list_string:\r\n",
        "            one_character += moji\r\n",
        "            comma_character = \",\".join(one_character)\r\n",
        "            string = comma_character.replace(\",\", '')\r\n",
        "            stairs_list.append(string)\r\n",
        "\r\n",
        "        for stairs in stairs_list:\r\n",
        "            print(f\"{stairs}\", end=\"\")\r\n",
        "            time.sleep(delay)\r\n",
        "            print(\"\\r\", end=\"\")\r\n",
        "        print()\r\n",
        "\r\n",
        "systems_list = [\"メニュー１\", \"メニュー２\", \"メニュー３\"]\r\n",
        "\r\n",
        "animation(systems_list, 0.5)"
      ],
      "execution_count": 1,
      "outputs": [
        {
          "output_type": "stream",
          "text": [
            "メニュー１\n",
            "メニュー２\n",
            "メニュー３\n"
          ],
          "name": "stdout"
        }
      ]
    }
  ]
}