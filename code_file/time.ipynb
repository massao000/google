{
  "nbformat": 4,
  "nbformat_minor": 0,
  "metadata": {
    "colab": {
      "name": "time",
      "provenance": [],
      "collapsed_sections": [],
      "authorship_tag": "ABX9TyMYhLHb910OOCzYpHNBJKVY",
      "include_colab_link": true
    },
    "kernelspec": {
      "name": "python3",
      "display_name": "Python 3"
    }
  },
  "cells": [
    {
      "cell_type": "markdown",
      "metadata": {
        "id": "view-in-github",
        "colab_type": "text"
      },
      "source": [
        "<a href=\"https://colab.research.google.com/github/massao000/google/blob/main/time.ipynb\" target=\"_parent\"><img src=\"https://colab.research.google.com/assets/colab-badge.svg\" alt=\"Open In Colab\"/></a>"
      ]
    },
    {
      "cell_type": "code",
      "metadata": {
        "id": "X7Rv6atpSClZ"
      },
      "source": [
        "import time"
      ],
      "execution_count": null,
      "outputs": []
    },
    {
      "cell_type": "markdown",
      "metadata": {
        "id": "vq9xMIoSm6-e"
      },
      "source": [
        "分と秒数を出す"
      ]
    },
    {
      "cell_type": "code",
      "metadata": {
        "id": "6gRuAftPZ_z2",
        "colab": {
          "base_uri": "https://localhost:8080/"
        },
        "outputId": "189c9442-1bdb-4333-8ee9-a838877c7075"
      },
      "source": [
        "t1 = time.time()\n",
        "# 時間経過のディレイ用のinp\n",
        "inp = input(\"ディレイ\")\n",
        "\n",
        "t2 = time.time()\n",
        "\n",
        "end_time = t2 - t1\n",
        "\n",
        "elapsed_minute = round(end_time % 3600) // 60\n",
        "elapsed_second = round(end_time % 3600 % 60, 2)\n",
        "\n",
        "\n",
        "print(f'経過時間 : {str(elapsed_minute).zfill(2)}:{str(elapsed_second).zfill(5)}')"
      ],
      "execution_count": 61,
      "outputs": [
        {
          "output_type": "stream",
          "text": [
            "ディレイ\n",
            "経過時間 : 01:38.48\n"
          ],
          "name": "stdout"
        }
      ]
    },
    {
      "cell_type": "code",
      "metadata": {
        "id": "XbCOR-JDqdaP"
      },
      "source": [
        ""
      ],
      "execution_count": null,
      "outputs": []
    }
  ]
}
