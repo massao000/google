{
  "nbformat": 4,
  "nbformat_minor": 0,
  "metadata": {
    "colab": {
      "name": "ランダム.ipynb",
      "provenance": [],
      "authorship_tag": "ABX9TyPQWONY+OUt4VBqaY8bh+Po",
      "include_colab_link": true
    },
    "kernelspec": {
      "name": "python3",
      "display_name": "Python 3"
    }
  },
  "cells": [
    {
      "cell_type": "markdown",
      "metadata": {
        "id": "view-in-github",
        "colab_type": "text"
      },
      "source": [
        "<a href=\"https://colab.research.google.com/github/massao000/google/blob/main/%E3%83%A9%E3%83%B3%E3%83%80%E3%83%A0.ipynb\" target=\"_parent\"><img src=\"https://colab.research.google.com/assets/colab-badge.svg\" alt=\"Open In Colab\"/></a>"
      ]
    },
    {
      "cell_type": "code",
      "metadata": {
        "id": "9yOaLCug6Lij"
      },
      "source": [
        "import random"
      ],
      "execution_count": 31,
      "outputs": []
    },
    {
      "cell_type": "code",
      "metadata": {
        "colab": {
          "base_uri": "https://localhost:8080/"
        },
        "id": "qRfcnDdf6XPS",
        "outputId": "8817e3c5-069e-49bf-9b5f-7bcd2110eb97"
      },
      "source": [
        "x = [i for i in range(1, 10)]\n",
        "# x = range(51)\n",
        "print(x)"
      ],
      "execution_count": 118,
      "outputs": [
        {
          "output_type": "stream",
          "text": [
            "[1, 2, 3, 4, 5, 6, 7, 8, 9]\n"
          ],
          "name": "stdout"
        }
      ]
    },
    {
      "cell_type": "code",
      "metadata": {
        "colab": {
          "base_uri": "https://localhost:8080/"
        },
        "id": "DlO0TEof60Tr",
        "outputId": "9cdcc29f-8a5c-4859-d437-3cde7c074435"
      },
      "source": [
        "rondom_list1 = []\n",
        "rondom_list2 = []\n",
        "answer_list = [\"正解\", \"不正解\"]\n",
        "\n",
        "for k in range(random.randint(3, 6)): # ランダムで回数を決める\n",
        "  x = random.randint(1,10)\n",
        "  y = random.randint(1,10)\n",
        "  rondom_list1.append(x)\n",
        "  rondom_list2.append(y)\n",
        "\n",
        "# rondom_list2を重複しないようにするか考える\n",
        "print(\"標準ライブラリ使用\")\n",
        "print(rondom_list1)\n",
        "print(rondom_list2)"
      ],
      "execution_count": 124,
      "outputs": [
        {
          "output_type": "stream",
          "text": [
            "標準ライブラリ使用\n",
            "[9, 7, 1, 5, 4, 1]\n",
            "[9, 6, 7, 5, 3, 9]\n"
          ],
          "name": "stdout"
        }
      ]
    },
    {
      "cell_type": "code",
      "metadata": {
        "id": "YN1Y0s4J-tkG"
      },
      "source": [
        "# rondom_list1, rondom_list2.zipn"
      ],
      "execution_count": 113,
      "outputs": []
    },
    {
      "cell_type": "code",
      "metadata": {
        "colab": {
          "base_uri": "https://localhost:8080/"
        },
        "id": "smrdvmew8aTw",
        "outputId": "8909afb7-dbfa-44b7-9997-95d9f794a9ba"
      },
      "source": [
        "issue_number = 1\n",
        "for ll, (i, n) in enumerate(zip(rondom_list1, rondom_list2), 1):\n",
        "  print(f'デバック（問題）{i} {n}', end=\" \")\n",
        "  ran = random.randrange(10)\n",
        "  if ran % 2 == 0 and ran % 3 == 0:\n",
        "    division = i / n\n",
        "    division = round(division, 3)\n",
        "    print(f'デバック（回答）{division}')\n",
        "    print(type(division))\n",
        "    # tp = isinstance(division, float)\n",
        "    if isinstance(division, float) == True:\n",
        "      answer = float(input(f'問{ll}, {i} ÷ {n} = '))\n",
        "      print(f'デバック（float回答）{division}')\n",
        "      print(type(answer))\n",
        "    # else:\n",
        "    #   answer = int(input(f'問{ll}, {i} ÷ {n} = '))\n",
        "    #   print(type(answer))\n",
        "    #   print(f'デバック（int回答）{division}')\n",
        "    # issue_number += 1\n",
        "    if answer == division:\n",
        "      print(answer_list[0])\n",
        "    else:\n",
        "      print(answer_list[1])\n",
        "\n",
        "  elif ran % 3 == 0: # ここのところをランダムで1~4で\n",
        "    multiplication = i * n\n",
        "    print(f'デバック（回答）{multiplication}')\n",
        "    answer = int(input(f'問{ll}, {i} x {n} = '))\n",
        "    # issue_number += 1\n",
        "    if answer == multiplication:\n",
        "      print(answer_list[0])\n",
        "    else:\n",
        "      print(answer_list[1])\n",
        "\n",
        "  elif ran % 2 == 0:\n",
        "    subtraction = i - n\n",
        "    print(f'デバック（回答）{subtraction}')\n",
        "    answer = int(input(f'問{ll}, {i} - {n} = '))\n",
        "    # issue_number += 1\n",
        "    if answer == subtraction:\n",
        "      print(answer_list[0])\n",
        "    else:\n",
        "      print(answer_list[1])\n",
        "\n",
        "  else:\n",
        "    addition = i + n\n",
        "    print(f'デバック（回答）{addition}')\n",
        "    answer = int(input(f'問{ll}, {i} ＋ {n} = '))\n",
        "    # issue_number += 1\n",
        "    if answer == addition:\n",
        "      print(answer_list[0])\n",
        "    else:\n",
        "      print(answer_list[1])"
      ],
      "execution_count": null,
      "outputs": [
        {
          "output_type": "stream",
          "text": [
            "デバック（問題）9 9 デバック（回答）0\n",
            "問1, 9 - 9 = 0\n",
            "正解\n",
            "デバック（問題）7 6 デバック（回答）1\n",
            "問2, 7 - 6 = 1\n",
            "正解\n",
            "デバック（問題）1 7 デバック（回答）-6\n",
            "問3, 1 - 7 = -6\n",
            "正解\n",
            "デバック（問題）5 5 デバック（回答）1.0\n",
            "<class 'float'>\n",
            "問4, 5 ÷ 5 = 1\n",
            "デバック（float回答）1.0\n",
            "<class 'float'>\n",
            "正解\n",
            "デバック（問題）4 3 デバック（回答）1\n",
            "問5, 4 - 3 = 1\n",
            "正解\n",
            "デバック（問題）1 9 デバック（回答）10\n"
          ],
          "name": "stdout"
        }
      ]
    },
    {
      "cell_type": "code",
      "metadata": {
        "colab": {
          "base_uri": "https://localhost:8080/"
        },
        "id": "_LC8bop5AifZ",
        "outputId": "434f582d-6c4a-4c0f-998b-8ffc554ffe9d"
      },
      "source": [
        "\n",
        "random.randrange(10)"
      ],
      "execution_count": 80,
      "outputs": [
        {
          "output_type": "execute_result",
          "data": {
            "text/plain": [
              "9"
            ]
          },
          "metadata": {
            "tags": []
          },
          "execution_count": 80
        }
      ]
    },
    {
      "cell_type": "code",
      "metadata": {
        "colab": {
          "base_uri": "https://localhost:8080/",
          "height": 974
        },
        "id": "37mdyGjbFMfE",
        "outputId": "5452e974-bd58-48c7-f907-9b72fb76eeff"
      },
      "source": [
        "  for ll, (i, n) in enumerate(zip(rondom_list1, rondom_list2), 1):\n",
        "    print(f'デバック（問題）{i} {n}', end=\" \")\n",
        "    ran = random.randrange(10)\n",
        "    if ran % 2 == 0:\n",
        "      division = i / n\n",
        "      division = round(division, 3)\n",
        "      print(f'デバック（回答）{division}')\n",
        "      print(type(division))\n",
        "      # tp = isinstance(division, float)\n",
        "      if isinstance(division, float) == True:\n",
        "        answer = float(input(f'問{ll}, {i} ÷ {n} = '))\n",
        "        print(f'デバック（float回答）{division}')\n",
        "        print(type(answer))\n",
        "      # else:\n",
        "      #   answer = int(input(f'問{ll}, {i} ÷ {n} = '))\n",
        "      #   print(type(answer))\n",
        "      #   print(f'デバック（int回答）{division}')\n",
        "      # issue_number += 1\n",
        "      if answer == division:\n",
        "        print(answer_list[0])\n",
        "      else:\n",
        "        print(answer_list[1])\n",
        "    else:\n",
        "      pass"
      ],
      "execution_count": 107,
      "outputs": [
        {
          "output_type": "stream",
          "text": [
            "デバック（問題）88 4 デバック（問題）38 6 デバック（回答）6.333\n",
            "<class 'float'>\n",
            "問2, 38 ÷ 6 = 6.333\n",
            "デバック（float回答）6.333\n",
            "<class 'float'>\n",
            "正解\n",
            "デバック（問題）24 3 デバック（回答）8.0\n",
            "<class 'float'>\n",
            "問3, 24 ÷ 3 = 8\n",
            "デバック（float回答）8.0\n",
            "<class 'float'>\n",
            "正解\n",
            "デバック（問題）21 7 デバック（回答）3.0\n",
            "<class 'float'>\n",
            "問4, 21 ÷ 7 = 3.0000\n",
            "デバック（float回答）3.0\n",
            "<class 'float'>\n",
            "正解\n",
            "デバック（問題）4 4 デバック（回答）1.0\n",
            "<class 'float'>\n",
            "問5, 4 ÷ 4 = 1.1\n",
            "デバック（float回答）1.0\n",
            "<class 'float'>\n",
            "不正解\n",
            "デバック（問題）88 9 デバック（回答）9.778\n",
            "<class 'float'>\n"
          ],
          "name": "stdout"
        },
        {
          "output_type": "error",
          "ename": "KeyboardInterrupt",
          "evalue": "ignored",
          "traceback": [
            "\u001b[0;31m---------------------------------------------------------------------------\u001b[0m",
            "\u001b[0;31mKeyboardInterrupt\u001b[0m                         Traceback (most recent call last)",
            "\u001b[0;32m/usr/local/lib/python3.6/dist-packages/ipykernel/kernelbase.py\u001b[0m in \u001b[0;36m_input_request\u001b[0;34m(self, prompt, ident, parent, password)\u001b[0m\n\u001b[1;32m    728\u001b[0m             \u001b[0;32mtry\u001b[0m\u001b[0;34m:\u001b[0m\u001b[0;34m\u001b[0m\u001b[0;34m\u001b[0m\u001b[0m\n\u001b[0;32m--> 729\u001b[0;31m                 \u001b[0mident\u001b[0m\u001b[0;34m,\u001b[0m \u001b[0mreply\u001b[0m \u001b[0;34m=\u001b[0m \u001b[0mself\u001b[0m\u001b[0;34m.\u001b[0m\u001b[0msession\u001b[0m\u001b[0;34m.\u001b[0m\u001b[0mrecv\u001b[0m\u001b[0;34m(\u001b[0m\u001b[0mself\u001b[0m\u001b[0;34m.\u001b[0m\u001b[0mstdin_socket\u001b[0m\u001b[0;34m,\u001b[0m \u001b[0;36m0\u001b[0m\u001b[0;34m)\u001b[0m\u001b[0;34m\u001b[0m\u001b[0;34m\u001b[0m\u001b[0m\n\u001b[0m\u001b[1;32m    730\u001b[0m             \u001b[0;32mexcept\u001b[0m \u001b[0mException\u001b[0m\u001b[0;34m:\u001b[0m\u001b[0;34m\u001b[0m\u001b[0;34m\u001b[0m\u001b[0m\n",
            "\u001b[0;32m/usr/local/lib/python3.6/dist-packages/jupyter_client/session.py\u001b[0m in \u001b[0;36mrecv\u001b[0;34m(self, socket, mode, content, copy)\u001b[0m\n\u001b[1;32m    802\u001b[0m         \u001b[0;32mtry\u001b[0m\u001b[0;34m:\u001b[0m\u001b[0;34m\u001b[0m\u001b[0;34m\u001b[0m\u001b[0m\n\u001b[0;32m--> 803\u001b[0;31m             \u001b[0mmsg_list\u001b[0m \u001b[0;34m=\u001b[0m \u001b[0msocket\u001b[0m\u001b[0;34m.\u001b[0m\u001b[0mrecv_multipart\u001b[0m\u001b[0;34m(\u001b[0m\u001b[0mmode\u001b[0m\u001b[0;34m,\u001b[0m \u001b[0mcopy\u001b[0m\u001b[0;34m=\u001b[0m\u001b[0mcopy\u001b[0m\u001b[0;34m)\u001b[0m\u001b[0;34m\u001b[0m\u001b[0;34m\u001b[0m\u001b[0m\n\u001b[0m\u001b[1;32m    804\u001b[0m         \u001b[0;32mexcept\u001b[0m \u001b[0mzmq\u001b[0m\u001b[0;34m.\u001b[0m\u001b[0mZMQError\u001b[0m \u001b[0;32mas\u001b[0m \u001b[0me\u001b[0m\u001b[0;34m:\u001b[0m\u001b[0;34m\u001b[0m\u001b[0;34m\u001b[0m\u001b[0m\n",
            "\u001b[0;32m/usr/local/lib/python3.6/dist-packages/zmq/sugar/socket.py\u001b[0m in \u001b[0;36mrecv_multipart\u001b[0;34m(self, flags, copy, track)\u001b[0m\n\u001b[1;32m    565\u001b[0m         \"\"\"\n\u001b[0;32m--> 566\u001b[0;31m         \u001b[0mparts\u001b[0m \u001b[0;34m=\u001b[0m \u001b[0;34m[\u001b[0m\u001b[0mself\u001b[0m\u001b[0;34m.\u001b[0m\u001b[0mrecv\u001b[0m\u001b[0;34m(\u001b[0m\u001b[0mflags\u001b[0m\u001b[0;34m,\u001b[0m \u001b[0mcopy\u001b[0m\u001b[0;34m=\u001b[0m\u001b[0mcopy\u001b[0m\u001b[0;34m,\u001b[0m \u001b[0mtrack\u001b[0m\u001b[0;34m=\u001b[0m\u001b[0mtrack\u001b[0m\u001b[0;34m)\u001b[0m\u001b[0;34m]\u001b[0m\u001b[0;34m\u001b[0m\u001b[0;34m\u001b[0m\u001b[0m\n\u001b[0m\u001b[1;32m    567\u001b[0m         \u001b[0;31m# have first part already, only loop while more to receive\u001b[0m\u001b[0;34m\u001b[0m\u001b[0;34m\u001b[0m\u001b[0;34m\u001b[0m\u001b[0m\n",
            "\u001b[0;32mzmq/backend/cython/socket.pyx\u001b[0m in \u001b[0;36mzmq.backend.cython.socket.Socket.recv\u001b[0;34m()\u001b[0m\n",
            "\u001b[0;32mzmq/backend/cython/socket.pyx\u001b[0m in \u001b[0;36mzmq.backend.cython.socket.Socket.recv\u001b[0;34m()\u001b[0m\n",
            "\u001b[0;32mzmq/backend/cython/socket.pyx\u001b[0m in \u001b[0;36mzmq.backend.cython.socket._recv_copy\u001b[0;34m()\u001b[0m\n",
            "\u001b[0;32m/usr/local/lib/python3.6/dist-packages/zmq/backend/cython/checkrc.pxd\u001b[0m in \u001b[0;36mzmq.backend.cython.checkrc._check_rc\u001b[0;34m()\u001b[0m\n",
            "\u001b[0;31mKeyboardInterrupt\u001b[0m: ",
            "\nDuring handling of the above exception, another exception occurred:\n",
            "\u001b[0;31mKeyboardInterrupt\u001b[0m                         Traceback (most recent call last)",
            "\u001b[0;32m<ipython-input-107-36a712eb980e>\u001b[0m in \u001b[0;36m<module>\u001b[0;34m()\u001b[0m\n\u001b[1;32m      9\u001b[0m     \u001b[0;31m# tp = isinstance(division, float)\u001b[0m\u001b[0;34m\u001b[0m\u001b[0;34m\u001b[0m\u001b[0;34m\u001b[0m\u001b[0m\n\u001b[1;32m     10\u001b[0m     \u001b[0;32mif\u001b[0m \u001b[0misinstance\u001b[0m\u001b[0;34m(\u001b[0m\u001b[0mdivision\u001b[0m\u001b[0;34m,\u001b[0m \u001b[0mfloat\u001b[0m\u001b[0;34m)\u001b[0m \u001b[0;34m==\u001b[0m \u001b[0;32mTrue\u001b[0m\u001b[0;34m:\u001b[0m\u001b[0;34m\u001b[0m\u001b[0;34m\u001b[0m\u001b[0m\n\u001b[0;32m---> 11\u001b[0;31m       \u001b[0manswer\u001b[0m \u001b[0;34m=\u001b[0m \u001b[0mfloat\u001b[0m\u001b[0;34m(\u001b[0m\u001b[0minput\u001b[0m\u001b[0;34m(\u001b[0m\u001b[0;34mf'問{ll}, {i} ÷ {n} = '\u001b[0m\u001b[0;34m)\u001b[0m\u001b[0;34m)\u001b[0m\u001b[0;34m\u001b[0m\u001b[0;34m\u001b[0m\u001b[0m\n\u001b[0m\u001b[1;32m     12\u001b[0m       \u001b[0mprint\u001b[0m\u001b[0;34m(\u001b[0m\u001b[0;34mf'デバック（float回答）{division}'\u001b[0m\u001b[0;34m)\u001b[0m\u001b[0;34m\u001b[0m\u001b[0;34m\u001b[0m\u001b[0m\n\u001b[1;32m     13\u001b[0m       \u001b[0mprint\u001b[0m\u001b[0;34m(\u001b[0m\u001b[0mtype\u001b[0m\u001b[0;34m(\u001b[0m\u001b[0manswer\u001b[0m\u001b[0;34m)\u001b[0m\u001b[0;34m)\u001b[0m\u001b[0;34m\u001b[0m\u001b[0;34m\u001b[0m\u001b[0m\n",
            "\u001b[0;32m/usr/local/lib/python3.6/dist-packages/ipykernel/kernelbase.py\u001b[0m in \u001b[0;36mraw_input\u001b[0;34m(self, prompt)\u001b[0m\n\u001b[1;32m    702\u001b[0m             \u001b[0mself\u001b[0m\u001b[0;34m.\u001b[0m\u001b[0m_parent_ident\u001b[0m\u001b[0;34m,\u001b[0m\u001b[0;34m\u001b[0m\u001b[0;34m\u001b[0m\u001b[0m\n\u001b[1;32m    703\u001b[0m             \u001b[0mself\u001b[0m\u001b[0;34m.\u001b[0m\u001b[0m_parent_header\u001b[0m\u001b[0;34m,\u001b[0m\u001b[0;34m\u001b[0m\u001b[0;34m\u001b[0m\u001b[0m\n\u001b[0;32m--> 704\u001b[0;31m             \u001b[0mpassword\u001b[0m\u001b[0;34m=\u001b[0m\u001b[0;32mFalse\u001b[0m\u001b[0;34m,\u001b[0m\u001b[0;34m\u001b[0m\u001b[0;34m\u001b[0m\u001b[0m\n\u001b[0m\u001b[1;32m    705\u001b[0m         )\n\u001b[1;32m    706\u001b[0m \u001b[0;34m\u001b[0m\u001b[0m\n",
            "\u001b[0;32m/usr/local/lib/python3.6/dist-packages/ipykernel/kernelbase.py\u001b[0m in \u001b[0;36m_input_request\u001b[0;34m(self, prompt, ident, parent, password)\u001b[0m\n\u001b[1;32m    732\u001b[0m             \u001b[0;32mexcept\u001b[0m \u001b[0mKeyboardInterrupt\u001b[0m\u001b[0;34m:\u001b[0m\u001b[0;34m\u001b[0m\u001b[0;34m\u001b[0m\u001b[0m\n\u001b[1;32m    733\u001b[0m                 \u001b[0;31m# re-raise KeyboardInterrupt, to truncate traceback\u001b[0m\u001b[0;34m\u001b[0m\u001b[0;34m\u001b[0m\u001b[0;34m\u001b[0m\u001b[0m\n\u001b[0;32m--> 734\u001b[0;31m                 \u001b[0;32mraise\u001b[0m \u001b[0mKeyboardInterrupt\u001b[0m\u001b[0;34m\u001b[0m\u001b[0;34m\u001b[0m\u001b[0m\n\u001b[0m\u001b[1;32m    735\u001b[0m             \u001b[0;32melse\u001b[0m\u001b[0;34m:\u001b[0m\u001b[0;34m\u001b[0m\u001b[0;34m\u001b[0m\u001b[0m\n\u001b[1;32m    736\u001b[0m                 \u001b[0;32mbreak\u001b[0m\u001b[0;34m\u001b[0m\u001b[0;34m\u001b[0m\u001b[0m\n",
            "\u001b[0;31mKeyboardInterrupt\u001b[0m: "
          ]
        }
      ]
    },
    {
      "cell_type": "code",
      "metadata": {
        "id": "cG4jksxFdAjv"
      },
      "source": [
        ""
      ],
      "execution_count": null,
      "outputs": []
    }
  ]
}
