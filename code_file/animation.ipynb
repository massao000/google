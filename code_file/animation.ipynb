{
  "nbformat": 4,
  "nbformat_minor": 0,
  "metadata": {
    "colab": {
      "name": "animation.ipynb",
      "provenance": [],
      "authorship_tag": "ABX9TyO5oGGad8Dy+uWIjwp/7xuV",
      "include_colab_link": true
    },
    "kernelspec": {
      "name": "python3",
      "display_name": "Python 3"
    }
  },
  "cells": [
    {
      "cell_type": "markdown",
      "metadata": {
        "id": "view-in-github",
        "colab_type": "text"
      },
      "source": [
        "<a href=\"https://colab.research.google.com/github/massao000/google/blob/main/animation.ipynb\" target=\"_parent\"><img src=\"https://colab.research.google.com/assets/colab-badge.svg\" alt=\"Open In Colab\"/></a>"
      ]
    },
    {
      "cell_type": "markdown",
      "metadata": {
        "id": "DmbinDu4KrId"
      },
      "source": [
        "アニメーションでターミナルに文字を表示する"
      ]
    },
    {
      "cell_type": "code",
      "metadata": {
        "colab": {
          "base_uri": "https://localhost:8080/"
        },
        "id": "PejjzR3ssmX5",
        "outputId": "ecfbf23e-ff53-475c-c401-0457629f4832"
      },
      "source": [
        "import time\n",
        "\n",
        "def animation(list_data, delay):\n",
        "    for list_string in list_data: # 関数に定義した配列の長さだけ繰り返すようにする\n",
        "        one_character = [] # １文字リスト\n",
        "        stairs_list = [] # 階段上のリストに変える\n",
        "\n",
        "        for moji in list_string: # list_stringから１文字ずつmojiに入れていく\n",
        "            one_character += moji # list_stringから文字をone_characterリストに追加していく\n",
        "            comma_character = \",\".join(one_character) # one_characterリストの文字を１文字ずつカンマ区切にしてcomma_character変数に入れる\n",
        "            string = comma_character.replace(\",\", '') # comma_character変数のカンマ区切の文字列のカンマを取り除くきstring変数に入れる\n",
        "            stairs_list.append(string) # arrayで文字列にしたものをstairs_listリストに連結していく\n",
        "\n",
        "        for stairs in stairs_list: # 階段上のリストを1個ずつ表示させる\n",
        "            print(f\"{stairs}\", end=\"\") # stairsに入れられた文字列を表示させる\n",
        "            time.sleep(delay) # time.sleep（）で表示する文字をディレイさせる\n",
        "            print(\"\\r\", end=\"\") # \\r　を使うと入力されたところに上書きができる\n",
        "        print()\n",
        "\n",
        "systems_list = [\"こんなふうに\", \"文字を順番に\", \"表示させることができる\"]\n",
        "\n",
        "animation(systems_list, 0.5)"
      ],
      "execution_count": 21,
      "outputs": [
        {
          "output_type": "stream",
          "text": [
            "こんなふうに\n",
            "文字を順番に\n",
            "表示させることができる\n"
          ],
          "name": "stdout"
        }
      ]
    }
  ]
}
